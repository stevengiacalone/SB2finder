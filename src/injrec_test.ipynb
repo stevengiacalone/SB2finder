{
 "cells": [
  {
   "cell_type": "code",
   "execution_count": 1,
   "id": "26851f8c",
   "metadata": {},
   "outputs": [],
   "source": [
    "import numpy as np\n",
    "import pandas as pd\n",
    "from injection_test import binary_detect"
   ]
  },
  {
   "cell_type": "code",
   "execution_count": 2,
   "id": "0501229f",
   "metadata": {},
   "outputs": [],
   "source": [
    "file_name = \"../../KP.20240619.75381.18_L1.fits\"\n",
    "mask_name = \"masks/G2.espresso.mas\"\n",
    "rv_shift_arr = np.array([-20, -10, 0, 10, 20])\n",
    "t_eff = np.array([5800])\n",
    "Teff_target = 5800\n",
    "logg_target = 4.5\n",
    "met_target = 0"
   ]
  },
  {
   "cell_type": "code",
   "execution_count": 3,
   "id": "020d80fc",
   "metadata": {},
   "outputs": [
    {
     "name": "stderr",
     "output_type": "stream",
     "text": [
      "lte05800-5.00-0.0.PHOENIX-ACES-AGSS-COND-2011-HiRes.fits: 100%|██████████████████████████████████████████████| 72/72 [23:37<00:00, 19.69s/it]\n",
      "Processing [5.8e+03 5.0e+00 0.0e+00]: 100%|██████████████████████████████████████████████████████████████████| 72/72 [00:56<00:00,  1.28it/s]\n"
     ]
    },
    {
     "name": "stdout",
     "output_type": "stream",
     "text": [
      "Working on RV shift of -20 km/s and T_eff of 5800 K\n"
     ]
    },
    {
     "ename": "ValueError",
     "evalue": "all the input arrays must have same number of dimensions, but the array at index 0 has 1 dimension(s) and the array at index 1 has 0 dimension(s)",
     "output_type": "error",
     "traceback": [
      "\u001b[0;31m---------------------------------------------------------------------------\u001b[0m",
      "\u001b[0;31mValueError\u001b[0m                                Traceback (most recent call last)",
      "\u001b[0;32m/var/folders/g3/vzqg47qs5yb1m286dv8ngcr80000gn/T/ipykernel_3830/419141884.py\u001b[0m in \u001b[0;36m<module>\u001b[0;34m\u001b[0m\n\u001b[0;32m----> 1\u001b[0;31m \u001b[0mdf_results\u001b[0m \u001b[0;34m=\u001b[0m \u001b[0mbinary_detect\u001b[0m\u001b[0;34m(\u001b[0m\u001b[0mfile_name\u001b[0m\u001b[0;34m,\u001b[0m \u001b[0mmask_name\u001b[0m\u001b[0;34m,\u001b[0m \u001b[0mrv_shift_arr\u001b[0m\u001b[0;34m,\u001b[0m \u001b[0mt_eff\u001b[0m\u001b[0;34m,\u001b[0m \u001b[0mTeff_target\u001b[0m\u001b[0;34m,\u001b[0m \u001b[0mlogg_target\u001b[0m\u001b[0;34m,\u001b[0m \u001b[0mmet_target\u001b[0m\u001b[0;34m)\u001b[0m\u001b[0;34m\u001b[0m\u001b[0;34m\u001b[0m\u001b[0m\n\u001b[0m",
      "\u001b[0;32m~/Documents/research/SB2_code/SB2finder/src/injection_test.py\u001b[0m in \u001b[0;36mbinary_detect\u001b[0;34m(file_name, mask_name, rv_shift_arr, t_eff, Teff_target, logg_target, met_target)\u001b[0m\n\u001b[1;32m     75\u001b[0m             \u001b[0mpeaks\u001b[0m\u001b[0;34m,\u001b[0m \u001b[0m_\u001b[0m \u001b[0;34m=\u001b[0m \u001b[0mfind_peaks\u001b[0m\u001b[0;34m(\u001b[0m\u001b[0mmy_ccf\u001b[0m\u001b[0;34m,\u001b[0m \u001b[0mheight\u001b[0m\u001b[0;34m=\u001b[0m\u001b[0;36m0.05\u001b[0m\u001b[0;34m)\u001b[0m\u001b[0;34m\u001b[0m\u001b[0;34m\u001b[0m\u001b[0m\n\u001b[1;32m     76\u001b[0m \u001b[0;34m\u001b[0m\u001b[0m\n\u001b[0;32m---> 77\u001b[0;31m             \u001b[0mdRV_list\u001b[0m \u001b[0;34m=\u001b[0m \u001b[0mnp\u001b[0m\u001b[0;34m.\u001b[0m\u001b[0mconcatenate\u001b[0m\u001b[0;34m(\u001b[0m\u001b[0;34m[\u001b[0m\u001b[0mdRV_list\u001b[0m\u001b[0;34m,\u001b[0m \u001b[0mrv_shift_arr\u001b[0m\u001b[0;34m[\u001b[0m\u001b[0mi\u001b[0m\u001b[0;34m]\u001b[0m\u001b[0;34m]\u001b[0m\u001b[0;34m)\u001b[0m\u001b[0;34m\u001b[0m\u001b[0;34m\u001b[0m\u001b[0m\n\u001b[0m\u001b[1;32m     78\u001b[0m             \u001b[0mTeff_list\u001b[0m \u001b[0;34m=\u001b[0m \u001b[0mnp\u001b[0m\u001b[0;34m.\u001b[0m\u001b[0mconcatenate\u001b[0m\u001b[0;34m(\u001b[0m\u001b[0;34m[\u001b[0m\u001b[0mTeff_list\u001b[0m\u001b[0;34m,\u001b[0m \u001b[0mt_eff\u001b[0m\u001b[0;34m[\u001b[0m\u001b[0mj\u001b[0m\u001b[0;34m]\u001b[0m\u001b[0;34m]\u001b[0m\u001b[0;34m)\u001b[0m\u001b[0;34m\u001b[0m\u001b[0;34m\u001b[0m\u001b[0m\n\u001b[1;32m     79\u001b[0m             \u001b[0mpeak_list\u001b[0m \u001b[0;34m=\u001b[0m \u001b[0mnp\u001b[0m\u001b[0;34m.\u001b[0m\u001b[0mconcatenate\u001b[0m\u001b[0;34m(\u001b[0m\u001b[0;34m[\u001b[0m\u001b[0mpeak_list\u001b[0m\u001b[0;34m,\u001b[0m \u001b[0mpeaks\u001b[0m\u001b[0;34m]\u001b[0m\u001b[0;34m)\u001b[0m\u001b[0;34m\u001b[0m\u001b[0;34m\u001b[0m\u001b[0m\n",
      "\u001b[0;32m<__array_function__ internals>\u001b[0m in \u001b[0;36mconcatenate\u001b[0;34m(*args, **kwargs)\u001b[0m\n",
      "\u001b[0;31mValueError\u001b[0m: all the input arrays must have same number of dimensions, but the array at index 0 has 1 dimension(s) and the array at index 1 has 0 dimension(s)"
     ]
    }
   ],
   "source": [
    "df_results = binary_detect(file_name, mask_name, rv_shift_arr, t_eff, Teff_target, logg_target, met_target)"
   ]
  },
  {
   "cell_type": "code",
   "execution_count": null,
   "id": "be1e7a22",
   "metadata": {},
   "outputs": [],
   "source": []
  }
 ],
 "metadata": {
  "kernelspec": {
   "display_name": "Python 3 (ipykernel)",
   "language": "python",
   "name": "python3"
  },
  "language_info": {
   "codemirror_mode": {
    "name": "ipython",
    "version": 3
   },
   "file_extension": ".py",
   "mimetype": "text/x-python",
   "name": "python",
   "nbconvert_exporter": "python",
   "pygments_lexer": "ipython3",
   "version": "3.8.11"
  }
 },
 "nbformat": 4,
 "nbformat_minor": 5
}
